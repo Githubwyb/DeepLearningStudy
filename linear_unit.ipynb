{
 "cells": [
  {
   "cell_type": "code",
   "execution_count": 4,
   "id": "79cd03bd",
   "metadata": {},
   "outputs": [
    {
     "name": "stdout",
     "output_type": "stream",
     "text": [
      "weights\t: [1124.0634970262222]\n",
      "bias\t: 85.485289\n",
      "\n",
      "Work 3.4 years, monthly salary = 3907.30\n",
      "Work 15 years, monthly salary = 16946.44\n",
      "Work 1.5 years, monthly salary = 1771.58\n",
      "Work 6.3 years, monthly salary = 7167.09\n"
     ]
    }
   ],
   "source": [
    "# -*- coding: UTF-8 -*-\n",
    "\n",
    "from perceptron import Perceptron\n",
    "\n",
    "# defined the activate func\n",
    "\n",
    "\n",
    "def f(x): return x\n",
    "\n",
    "\n",
    "class LinearUnit(Perceptron):\n",
    "    def __init__(self, input_num):\n",
    "        '''init linear unit, set input param num'''\n",
    "        # set the activate function with defined upon\n",
    "        Perceptron.__init__(self, input_num, f)\n",
    "\n",
    "\n",
    "def get_training_dataset():\n",
    "    '''\n",
    "    make benefit of 5 man\n",
    "    '''\n",
    "    # make the training data\n",
    "    # input a list of vector with every item be work time\n",
    "    input_vecs = [[5], [3], [8], [1.4], [10.1]]\n",
    "    # expected output vector, benefit one month, make sure one output to one input\n",
    "    labels = [5500, 2300, 7600, 1800, 11400]\n",
    "    return input_vecs, labels\n",
    "\n",
    "\n",
    "def train_linear_unit():\n",
    "    '''\n",
    "    use the data to train linear unit\n",
    "    '''\n",
    "    # init perceptron with only one input feature (work time)\n",
    "    lu = LinearUnit(1)\n",
    "    # train, batch 10, rate 0.01\n",
    "    input_vecs, labels = get_training_dataset()\n",
    "    lu.train(input_vecs, labels, 10, 0.01)\n",
    "    # return the unit\n",
    "    return lu\n",
    "\n",
    "\n",
    "linear_unit = train_linear_unit()\n",
    "# \\u6253\\u5370\\u8bad\\u7ec3\\u83b7\\u5f97\\u7684\\u6743\\u91cd\n",
    "print(linear_unit)\n",
    "# \\u6d4b\\u8bd5\n",
    "print('Work 3.4 years, monthly salary = %.2f' % linear_unit.predict([3.4]))\n",
    "print('Work 15 years, monthly salary = %.2f' % linear_unit.predict([15]))\n",
    "print('Work 1.5 years, monthly salary = %.2f' % linear_unit.predict([1.5]))\n",
    "print('Work 6.3 years, monthly salary = %.2f' % linear_unit.predict([6.3]))"
   ]
  },
  {
   "cell_type": "code",
   "execution_count": 5,
   "id": "afe37246",
   "metadata": {},
   "outputs": [
    {
     "name": "stdout",
     "output_type": "stream",
     "text": [
      "range(0, 12)\n",
      "[85.48528882583837, 1209.5487858520605, 2333.6122828782827, 3457.675779904505, 4581.739276930727, 5705.802773956949, 6829.8662709831715, 7953.929768009394, 9077.993265035617, 10202.056762061839, 11326.12025908806, 12450.183756114284]\n"
     ]
    }
   ],
   "source": [
    "input_vecs, labels = get_training_dataset()\n",
    "weights = linear_unit.weights\n",
    "bias = linear_unit.bias\n",
    "x = range(0, 12, 1)\n",
    "y = [(weights[0] * item + bias) for item in x]\n",
    "print(x)\n",
    "print(y)"
   ]
  },
  {
   "cell_type": "code",
   "execution_count": 6,
   "id": "4bba8175",
   "metadata": {},
   "outputs": [
    {
     "data": {
      "text/plain": [
       "[<matplotlib.lines.Line2D at 0x7303d0faf0>]"
      ]
     },
     "execution_count": 6,
     "metadata": {},
     "output_type": "execute_result"
    },
    {
     "data": {
      "image/png": "[encoded data removed]",
      "text/plain": [
       "<Figure size 432x288 with 1 Axes>"
      ]
     },
     "metadata": {
      "needs_background": "light"
     },
     "output_type": "display_data"
    }
   ],
   "source": [
    "import matplotlib.pyplot as plt\n",
    "fig = plt.figure()\n",
    "ax = fig.add_subplot(111)\n",
    "ax.scatter([x[0] for x in input_vecs], labels)\n",
    "ax.plot(x, y)"
   ]
  },
  {
   "cell_type": "code",
   "execution_count": null,
   "id": "72034bc9",
   "metadata": {},
   "outputs": [],
   "source": []
  }
 ],
 "metadata": {
  "interpreter": {
   "hash": "6d0cb12eb8b44d1b69ac0d605d29fd0e706ac39d13606688c4ef8f2077321a8c"
  },
  "kernelspec": {
   "display_name": "Python 3.9.7 64-bit ('diy_deep_learning': conda)",
   "name": "python3"
  },
  "language_info": {
   "codemirror_mode": {
    "name": "ipython",
    "version": 3
   },
   "file_extension": ".py",
   "mimetype": "text/x-python",
   "name": "python",
   "nbconvert_exporter": "python",
   "pygments_lexer": "ipython3",
   "version": "3.9.7"
  }
 },
 "nbformat": 4,
 "nbformat_minor": 5
}
